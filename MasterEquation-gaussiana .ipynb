{
 "metadata": {
  "name": ""
 },
 "nbformat": 3,
 "nbformat_minor": 0,
 "worksheets": [
  {
   "cells": [
    {
     "cell_type": "markdown",
     "metadata": {},
     "source": [
      "#**Master Equation**"
     ]
    },
    {
     "cell_type": "code",
     "collapsed": false,
     "input": [
      "import numpy as np\n",
      "import matplotlib.pyplot as plt\n",
      "from qutip import*\n",
      "%pylab inline"
     ],
     "language": "python",
     "metadata": {},
     "outputs": [
      {
       "output_type": "stream",
       "stream": "stdout",
       "text": [
        "Populating the interactive namespace from numpy and matplotlib\n"
       ]
      },
      {
       "output_type": "stream",
       "stream": "stderr",
       "text": [
        "WARNING: pylab import has clobbered these variables: ['entropy', 'identity', 'info', 'shape', 'squeeze']\n",
        "`%pylab --no-import-all` prevents importing * from pylab and numpy\n"
       ]
      }
     ],
     "prompt_number": 1
    },
    {
     "cell_type": "markdown",
     "metadata": {},
     "source": [
      "##**Quantum Description.**\n",
      "\n",
      "In the RWA approximation, the quantum mechanical Hamiltonian $H$ describing the coherent dynamics of the coupled QD-Cavity system is given by\n",
      "\n",
      "   $$H=\\omega_{a}\\sigma^{\\dagger}\\sigma+\\omega_{c}a^{\\dagger}a+ig(a\\sigma^{\\dagger}-a^{\\dagger}).$$\n",
      "   \n",
      "Here $\\omega_{c}$ and $\\omega_{a}$ are respectively the frequency of the cavity and the QD. $\\sigma$ is the lowering operator for the QD; a is the annihilation operator for the cavity mode. The driven hamiltonian in a frame rotanting at the frequency $\\omega_{l}$ is\n",
      "\n",
      "$$\\textbf{H}=\\Delta_{a}\\sigma^{\\dagger}\\sigma+\\Delta_{c}a^{\\dagger}a+ig(a\\sigma^{\\dagger}-a^{\\dagger})+i\\Omega(t)(a-a^{\\dagger}).$$\n",
      "\n",
      "##**Problem parameters**"
     ]
    },
    {
     "cell_type": "code",
     "collapsed": false,
     "input": [
      "wc = 1.2   # cavity frequency\n",
      "wa = 1.1   # atom frequency\n",
      "wl = 1.0   # laser frequency\n",
      "g  = 25e9 * 2 * np.pi  # coupling strength\n",
      "kappa = 29e9 * 2 * np.pi # cavity dissipation rate\n",
      "gamma = 1e9 * 2 * np.pi  # atom dissipation rate\n",
      "omega= 1e9 * 2 * np.pi #peak intensity of the driving pulse\n",
      "N = 20              # number of cavity fock states\n",
      "n_th_a = 0.0    # avg number of thermal bath excitation"
     ],
     "language": "python",
     "metadata": {},
     "outputs": [],
     "prompt_number": 2
    },
    {
     "cell_type": "code",
     "collapsed": false,
     "input": [
      "tlist=np.linspace(0.2e-12,6e-11,100) # in ps\n",
      "\n",
      "def H1_coeff(t):\n",
      "    return 16.5*np.exp(-((t-1e-11)**2)/(2*(3e-12)**2))\n",
      "\n",
      "x=H1_coeff(tlist)\n",
      "\n",
      "#plt.plot(tlist,x) # gaussiana"
     ],
     "language": "python",
     "metadata": {},
     "outputs": [],
     "prompt_number": 3
    },
    {
     "cell_type": "markdown",
     "metadata": {},
     "source": [
      "##**Initial State of the Hamiltonian **"
     ]
    },
    {
     "cell_type": "code",
     "collapsed": false,
     "input": [
      "# intial state\n",
      "psi0 = tensor(basis(N,0), basis(2,1))    # start with an excited atom\n",
      "\n",
      "# operators\n",
      "a  = tensor(destroy(N), qeye(2))\n",
      "sm = tensor(qeye(N), destroy(2))\n",
      "\n",
      "#Hamiltonians\n",
      "H0=(wc-wl)* a.dag() * a + (wa-wl)* sm.dag() * sm +1j*g * (a.dag() * sm - a * sm.dag())# Initial Hamiltonian time-independent\n",
      "H1=1j*omega*(a-a.dag()) #Driving Pulse time-independent\n",
      "\n",
      "#Hamiltonian\n",
      "H = [H0,[H1,x]]"
     ],
     "language": "python",
     "metadata": {},
     "outputs": [],
     "prompt_number": 4
    },
    {
     "cell_type": "markdown",
     "metadata": {},
     "source": [
      "##**Collapse operators**"
     ]
    },
    {
     "cell_type": "code",
     "collapsed": false,
     "input": [
      "c_ops = []\n",
      "\n",
      "# cavity relaxation\n",
      "rate = kappa * (1 + n_th_a)\n",
      "if rate > 0.0:\n",
      "    c_ops.append(sqrt(rate) * a)"
     ],
     "language": "python",
     "metadata": {},
     "outputs": [],
     "prompt_number": 5
    },
    {
     "cell_type": "markdown",
     "metadata": {},
     "source": [
      "\n",
      "##**Evolve the system**\n",
      "\n",
      "Here we evolve the system with the Lindblad master equation solver, and we request that the expectation values of the operators $a^{\\dagger}a$ and $\u03c3^{\\dagger}\u03c3$ are returned by the solver by passing the list [a.dag()*a, sm.dag()*sm] as the fifth argument to the solver.\n"
     ]
    },
    {
     "cell_type": "code",
     "collapsed": false,
     "input": [
      "output= mesolve(H, psi0, tlist, c_ops, [a.dag() * a])"
     ],
     "language": "python",
     "metadata": {},
     "outputs": [],
     "prompt_number": 6
    },
    {
     "cell_type": "markdown",
     "metadata": {},
     "source": [
      "##**Results**"
     ]
    },
    {
     "cell_type": "code",
     "collapsed": false,
     "input": [
      "n_c = output.expect[0]\n",
      "\n",
      "plt.plot(tlist,37.5*n_c,'r',linewidth=2,linestyle=\"-\",label=\"Quantum Optical\" )\n",
      "plt.xlabel(\"Time(s)\", fontsize=16)\n",
      "plt.ylabel(\"Ocupation Probability $(a{a}^{\\dagger})$\", fontsize=16)\n",
      "plt.title(\"Vacuum Rabi Oscillations\", fontsize=16)\n",
      "plt.plot(tlist,x,color=\"green\",linewidth=2.5,linestyle= 'dashed',label=\"Driving Pulse\")\n",
      "\n",
      "plt.legend(loc='best')"
     ],
     "language": "python",
     "metadata": {},
     "outputs": [
      {
       "metadata": {},
       "output_type": "pyout",
       "prompt_number": 7,
       "text": [
        "<matplotlib.legend.Legend at 0x7f1a90413eb8>"
       ]
      },
      {
       "metadata": {},
       "output_type": "display_data",
       "png": "[encoded data removed]",
       "text": [
        "<matplotlib.figure.Figure at 0x7f1a904457b8>"
       ]
      }
     ],
     "prompt_number": 7
    }
   ],
   "metadata": {}
  }
 ]
}